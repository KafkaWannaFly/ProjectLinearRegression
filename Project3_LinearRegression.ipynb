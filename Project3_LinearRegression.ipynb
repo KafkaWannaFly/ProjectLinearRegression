{
  "nbformat": 4,
  "nbformat_minor": 0,
  "metadata": {
    "colab": {
      "name": "Project3_LinearRegression.ipynb",
      "provenance": [],
      "collapsed_sections": []
    },
    "kernelspec": {
      "name": "python3",
      "display_name": "Python 3"
    }
  },
  "cells": [
    {
      "cell_type": "markdown",
      "metadata": {
        "id": "3VIajFksGuqu",
        "colab_type": "text"
      },
      "source": [
        "# Project 3: Linear Regression\n",
        "File \"wine.csv\" là cơ sở dữ liệu đánh giá chất lượng của 1200 chai rượu vang theo thang điểm 1 - 10 dựa trên 11 tính chất khác nhau. <br>\n",
        "Xây dựng mô hình đánh giá chất lượng rượu sử dụng phương pháp hồi quy tuyến tính.\n"
      ]
    },
    {
      "cell_type": "markdown",
      "metadata": {
        "id": "-xFihIoMY3JB",
        "colab_type": "text"
      },
      "source": [
        "## A. Sử dụng toàn bộ 11 đặc trưng đề bài cung cấp"
      ]
    },
    {
      "cell_type": "code",
      "metadata": {
        "id": "XGe0NhqEcgqR",
        "colab_type": "code",
        "colab": {
          "base_uri": "https://localhost:8080/",
          "height": 404
        },
        "outputId": "b8f578d2-9839-4fd4-c553-2b2da7a6d40b"
      },
      "source": [
        "import pandas as pd\n",
        "# Đường dẫn đến file csv\n",
        "csvPath = 'https://raw.githubusercontent.com/tarzanchemgio/Project-Linear-Regression/master/dataset/wine.csv?token=ALHLG3TXRNZZS76X4VICHTK7KCVAM'\n",
        "df = pd.read_csv(csvPath, sep=';')\n",
        "df"
      ],
      "execution_count": 2,
      "outputs": [
        {
          "output_type": "execute_result",
          "data": {
            "text/html": [
              "<div>\n",
              "<style scoped>\n",
              "    .dataframe tbody tr th:only-of-type {\n",
              "        vertical-align: middle;\n",
              "    }\n",
              "\n",
              "    .dataframe tbody tr th {\n",
              "        vertical-align: top;\n",
              "    }\n",
              "\n",
              "    .dataframe thead th {\n",
              "        text-align: right;\n",
              "    }\n",
              "</style>\n",
              "<table border=\"1\" class=\"dataframe\">\n",
              "  <thead>\n",
              "    <tr style=\"text-align: right;\">\n",
              "      <th></th>\n",
              "      <th>fixed acidity</th>\n",
              "      <th>volatile acidity</th>\n",
              "      <th>citric acid</th>\n",
              "      <th>residual sugar</th>\n",
              "      <th>chlorides</th>\n",
              "      <th>free sulfur dioxide</th>\n",
              "      <th>total sulfur dioxide</th>\n",
              "      <th>density</th>\n",
              "      <th>pH</th>\n",
              "      <th>sulphates</th>\n",
              "      <th>alcohol</th>\n",
              "      <th>quality</th>\n",
              "    </tr>\n",
              "  </thead>\n",
              "  <tbody>\n",
              "    <tr>\n",
              "      <th>0</th>\n",
              "      <td>7.4</td>\n",
              "      <td>0.700</td>\n",
              "      <td>0.00</td>\n",
              "      <td>1.9</td>\n",
              "      <td>0.076</td>\n",
              "      <td>11.0</td>\n",
              "      <td>34</td>\n",
              "      <td>0.99780</td>\n",
              "      <td>3.51</td>\n",
              "      <td>0.56</td>\n",
              "      <td>9.4</td>\n",
              "      <td>5</td>\n",
              "    </tr>\n",
              "    <tr>\n",
              "      <th>1</th>\n",
              "      <td>7.8</td>\n",
              "      <td>0.880</td>\n",
              "      <td>0.00</td>\n",
              "      <td>2.6</td>\n",
              "      <td>0.098</td>\n",
              "      <td>25.0</td>\n",
              "      <td>67</td>\n",
              "      <td>0.99680</td>\n",
              "      <td>3.20</td>\n",
              "      <td>0.68</td>\n",
              "      <td>9.8</td>\n",
              "      <td>5</td>\n",
              "    </tr>\n",
              "    <tr>\n",
              "      <th>2</th>\n",
              "      <td>7.8</td>\n",
              "      <td>0.760</td>\n",
              "      <td>0.04</td>\n",
              "      <td>2.3</td>\n",
              "      <td>0.092</td>\n",
              "      <td>15.0</td>\n",
              "      <td>54</td>\n",
              "      <td>0.99700</td>\n",
              "      <td>3.26</td>\n",
              "      <td>0.65</td>\n",
              "      <td>9.8</td>\n",
              "      <td>5</td>\n",
              "    </tr>\n",
              "    <tr>\n",
              "      <th>3</th>\n",
              "      <td>11.2</td>\n",
              "      <td>0.280</td>\n",
              "      <td>0.56</td>\n",
              "      <td>1.9</td>\n",
              "      <td>0.075</td>\n",
              "      <td>17.0</td>\n",
              "      <td>60</td>\n",
              "      <td>0.99800</td>\n",
              "      <td>3.16</td>\n",
              "      <td>0.58</td>\n",
              "      <td>9.8</td>\n",
              "      <td>6</td>\n",
              "    </tr>\n",
              "    <tr>\n",
              "      <th>4</th>\n",
              "      <td>7.4</td>\n",
              "      <td>0.700</td>\n",
              "      <td>0.00</td>\n",
              "      <td>1.9</td>\n",
              "      <td>0.076</td>\n",
              "      <td>11.0</td>\n",
              "      <td>34</td>\n",
              "      <td>0.99780</td>\n",
              "      <td>3.51</td>\n",
              "      <td>0.56</td>\n",
              "      <td>9.4</td>\n",
              "      <td>5</td>\n",
              "    </tr>\n",
              "    <tr>\n",
              "      <th>...</th>\n",
              "      <td>...</td>\n",
              "      <td>...</td>\n",
              "      <td>...</td>\n",
              "      <td>...</td>\n",
              "      <td>...</td>\n",
              "      <td>...</td>\n",
              "      <td>...</td>\n",
              "      <td>...</td>\n",
              "      <td>...</td>\n",
              "      <td>...</td>\n",
              "      <td>...</td>\n",
              "      <td>...</td>\n",
              "    </tr>\n",
              "    <tr>\n",
              "      <th>1194</th>\n",
              "      <td>7.0</td>\n",
              "      <td>0.745</td>\n",
              "      <td>0.12</td>\n",
              "      <td>1.8</td>\n",
              "      <td>0.114</td>\n",
              "      <td>15.0</td>\n",
              "      <td>64</td>\n",
              "      <td>0.99588</td>\n",
              "      <td>3.22</td>\n",
              "      <td>0.59</td>\n",
              "      <td>9.5</td>\n",
              "      <td>6</td>\n",
              "    </tr>\n",
              "    <tr>\n",
              "      <th>1195</th>\n",
              "      <td>6.2</td>\n",
              "      <td>0.430</td>\n",
              "      <td>0.22</td>\n",
              "      <td>1.8</td>\n",
              "      <td>0.078</td>\n",
              "      <td>21.0</td>\n",
              "      <td>56</td>\n",
              "      <td>0.99633</td>\n",
              "      <td>3.52</td>\n",
              "      <td>0.60</td>\n",
              "      <td>9.5</td>\n",
              "      <td>6</td>\n",
              "    </tr>\n",
              "    <tr>\n",
              "      <th>1196</th>\n",
              "      <td>7.9</td>\n",
              "      <td>0.580</td>\n",
              "      <td>0.23</td>\n",
              "      <td>2.3</td>\n",
              "      <td>0.076</td>\n",
              "      <td>23.0</td>\n",
              "      <td>94</td>\n",
              "      <td>0.99686</td>\n",
              "      <td>3.21</td>\n",
              "      <td>0.58</td>\n",
              "      <td>9.5</td>\n",
              "      <td>6</td>\n",
              "    </tr>\n",
              "    <tr>\n",
              "      <th>1197</th>\n",
              "      <td>7.7</td>\n",
              "      <td>0.570</td>\n",
              "      <td>0.21</td>\n",
              "      <td>1.5</td>\n",
              "      <td>0.069</td>\n",
              "      <td>4.0</td>\n",
              "      <td>9</td>\n",
              "      <td>0.99458</td>\n",
              "      <td>3.16</td>\n",
              "      <td>0.54</td>\n",
              "      <td>9.8</td>\n",
              "      <td>6</td>\n",
              "    </tr>\n",
              "    <tr>\n",
              "      <th>1198</th>\n",
              "      <td>7.7</td>\n",
              "      <td>0.260</td>\n",
              "      <td>0.26</td>\n",
              "      <td>2.0</td>\n",
              "      <td>0.052</td>\n",
              "      <td>19.0</td>\n",
              "      <td>77</td>\n",
              "      <td>0.99510</td>\n",
              "      <td>3.15</td>\n",
              "      <td>0.79</td>\n",
              "      <td>10.9</td>\n",
              "      <td>6</td>\n",
              "    </tr>\n",
              "  </tbody>\n",
              "</table>\n",
              "<p>1199 rows × 12 columns</p>\n",
              "</div>"
            ],
            "text/plain": [
              "      fixed acidity  volatile acidity  citric acid  ...  sulphates  alcohol  quality\n",
              "0               7.4             0.700         0.00  ...       0.56      9.4        5\n",
              "1               7.8             0.880         0.00  ...       0.68      9.8        5\n",
              "2               7.8             0.760         0.04  ...       0.65      9.8        5\n",
              "3              11.2             0.280         0.56  ...       0.58      9.8        6\n",
              "4               7.4             0.700         0.00  ...       0.56      9.4        5\n",
              "...             ...               ...          ...  ...        ...      ...      ...\n",
              "1194            7.0             0.745         0.12  ...       0.59      9.5        6\n",
              "1195            6.2             0.430         0.22  ...       0.60      9.5        6\n",
              "1196            7.9             0.580         0.23  ...       0.58      9.5        6\n",
              "1197            7.7             0.570         0.21  ...       0.54      9.8        6\n",
              "1198            7.7             0.260         0.26  ...       0.79     10.9        6\n",
              "\n",
              "[1199 rows x 12 columns]"
            ]
          },
          "metadata": {
            "tags": []
          },
          "execution_count": 2
        }
      ]
    },
    {
      "cell_type": "code",
      "metadata": {
        "id": "4iJwhCk4il_f",
        "colab_type": "code",
        "colab": {
          "base_uri": "https://localhost:8080/",
          "height": 518
        },
        "outputId": "adc75b98-00dd-4b41-efa2-53d93f5cbfba"
      },
      "source": [
        "import numpy as np\n",
        "\n",
        "colNum = len(df.columns)\n",
        "# Train - Test is 7 - 3\n",
        "trainSize = int(len(df) * 0.7)\n",
        "trainSet = np.zeros(((colNum - 1), trainSize))\n",
        "trainSet = df[:][0:trainSize]\n",
        "print('TRAIN SET: \\n' + str(trainSet))\n",
        "\n",
        "testSize = len(df) - trainSize\n",
        "testSet = np.zeros(((colNum - 1), testSize))\n",
        "testSet = df[:][trainSize: len(df)]\n",
        "print('TEST SET:\\n' + str(testSet))\n"
      ],
      "execution_count": 3,
      "outputs": [
        {
          "output_type": "stream",
          "text": [
            "TRAIN SET: \n",
            "     fixed acidity  volatile acidity  citric acid  ...  sulphates  alcohol  quality\n",
            "0              7.4             0.700         0.00  ...       0.56      9.4        5\n",
            "1              7.8             0.880         0.00  ...       0.68      9.8        5\n",
            "2              7.8             0.760         0.04  ...       0.65      9.8        5\n",
            "3             11.2             0.280         0.56  ...       0.58      9.8        6\n",
            "4              7.4             0.700         0.00  ...       0.56      9.4        5\n",
            "..             ...               ...          ...  ...        ...      ...      ...\n",
            "834            8.8             0.685         0.26  ...       0.47      9.4        5\n",
            "835            7.6             0.665         0.10  ...       0.51      9.3        5\n",
            "836            6.7             0.280         0.28  ...       0.39     11.7        7\n",
            "837            6.7             0.280         0.28  ...       0.39     11.7        7\n",
            "838           10.1             0.310         0.35  ...       0.83     11.2        7\n",
            "\n",
            "[839 rows x 12 columns]\n",
            "TEST SET:\n",
            "      fixed acidity  volatile acidity  citric acid  ...  sulphates  alcohol  quality\n",
            "839             6.0             0.500         0.04  ...       0.47     10.0        5\n",
            "840            11.1             0.420         0.47  ...       0.77     12.1        7\n",
            "841             6.6             0.660         0.00  ...       0.63     10.3        5\n",
            "842            10.6             0.500         0.45  ...       0.72     10.9        6\n",
            "843             7.1             0.685         0.35  ...       0.62      9.4        5\n",
            "...             ...               ...          ...  ...        ...      ...      ...\n",
            "1194            7.0             0.745         0.12  ...       0.59      9.5        6\n",
            "1195            6.2             0.430         0.22  ...       0.60      9.5        6\n",
            "1196            7.9             0.580         0.23  ...       0.58      9.5        6\n",
            "1197            7.7             0.570         0.21  ...       0.54      9.8        6\n",
            "1198            7.7             0.260         0.26  ...       0.79     10.9        6\n",
            "\n",
            "[360 rows x 12 columns]\n"
          ],
          "name": "stdout"
        }
      ]
    },
    {
      "cell_type": "markdown",
      "metadata": {
        "id": "yyeZy3EdSFq9",
        "colab_type": "text"
      },
      "source": [
        "Tạo hàm `linearRegression` để xử lý `trainSet`, ta nhận được 1 model"
      ]
    },
    {
      "cell_type": "code",
      "metadata": {
        "id": "vB8vRvwMJT9y",
        "colab_type": "code",
        "colab": {}
      },
      "source": [
        "# dataset: 2D array\n",
        "# return: trained model\n",
        "def linearRegression(dataset):\n",
        "  col = len(dataset[0]) - 1\n",
        "  # Ax = B\n",
        "  # x = (A^T*A)^-1 * A^T * B\n",
        "  A = np.array([i[:col] for i in dataset]) # (839, 11)\n",
        "  # print(A.shape)\n",
        "  B = np.array([i[col] for i in dataset]) # (839, 1)\n",
        "  # print(B.shape)\n",
        "\n",
        "  x = np.linalg.inv(A.T @ A) @ A.T @ B\n",
        "  return x"
      ],
      "execution_count": 73,
      "outputs": []
    },
    {
      "cell_type": "code",
      "metadata": {
        "id": "lsmCG_T1br3Z",
        "colab_type": "code",
        "colab": {
          "base_uri": "https://localhost:8080/",
          "height": 67
        },
        "outputId": "ac9953fc-d7e3-4ed5-9d01-4a44b0ef3601"
      },
      "source": [
        "x = linearRegression(np.asarray(trainSet))\n",
        "x"
      ],
      "execution_count": 74,
      "outputs": [
        {
          "output_type": "execute_result",
          "data": {
            "text/plain": [
              "array([ 9.16934650e-03, -1.03624883e+00, -2.38811108e-01, -1.03481374e-03,\n",
              "       -1.53280041e+00,  3.39872956e-03, -4.34078032e-03,  4.03200906e+00,\n",
              "       -3.11991895e-01,  6.71062776e-01,  2.91929462e-01])"
            ]
          },
          "metadata": {
            "tags": []
          },
          "execution_count": 74
        }
      ]
    },
    {
      "cell_type": "markdown",
      "metadata": {
        "id": "FRLCl6_WaFAB",
        "colab_type": "text"
      },
      "source": [
        "Sau khi tìm được model `x`, ta bắt đầu kiểm thử với tập `testSet` <br>\n",
        "Hàm `predict` trả về kết quả dự đoán 1 dòng dữ liệu dựa trên model <br>\n",
        "Hàm `validate` kiểm thử toàn bộ dữ liệu và trả về số dòng đoán đúng với sai số nhỏ hơn `tolerance` và sai số trung bình. Nếu không cho `tolerance` giá trị thì mặc định là 0.1 <br>\n",
        "Kết quả khi test trên file `wine.csv`:\n",
        "- 52 dự đoán có sai số dưới 0.1\n",
        "- Sai số trung bình là 0.502"
      ]
    },
    {
      "cell_type": "code",
      "metadata": {
        "id": "JMtRh8ugUAU6",
        "colab_type": "code",
        "colab": {
          "base_uri": "https://localhost:8080/",
          "height": 33
        },
        "outputId": "e21a44e4-3985-4acd-86f7-af63a3b46c99"
      },
      "source": [
        "# Ax + By + Cz + ... = quality\n",
        "def predict(model, data):\n",
        "  return sum(model * data)\n",
        "\n",
        "# model: my trained model\n",
        "# dataset: test set\n",
        "# return: number of correct, averange tolerance\n",
        "def validate(model, dataset, tolerance=0.1): \n",
        "  total_tolerance = 0\n",
        "  correct = 0\n",
        "\n",
        "  col = len(dataset[0]) - 1\n",
        "  for column in dataset:\n",
        "    ret = predict(model, column[:col])\n",
        "    tol = abs(column[col] - ret)\n",
        "\n",
        "    if tol < tolerance:\n",
        "      correct += 1\n",
        "    total_tolerance += tol\n",
        "    \n",
        "  return correct, total_tolerance/(len(dataset))\n",
        "\n",
        "validate(x, np.asarray(testSet))"
      ],
      "execution_count": 5,
      "outputs": [
        {
          "output_type": "execute_result",
          "data": {
            "text/plain": [
              "(52, 0.502440864997521)"
            ]
          },
          "metadata": {
            "tags": []
          },
          "execution_count": 5
        }
      ]
    },
    {
      "cell_type": "markdown",
      "metadata": {
        "id": "CAT3ufDsdNPp",
        "colab_type": "text"
      },
      "source": [
        "## B. Sử dụng duy nhất 1 đặc trưng cho kết quả tốt nhất\n",
        "Lần này, ta sẽ xây dựng model cho từng đặc trưng và tìm đặc trưng cho ra sai số trung bình thấp nhất <br>\n",
        "Kết quả khi test trên file `wine.csv`: \n",
        "- Model có sai số thấp nhất là của cột 'alcohol'\n",
        "- Đoán đúng 44 lần - Sai số trung bình ~ 0.538"
      ]
    },
    {
      "cell_type": "code",
      "metadata": {
        "id": "KCjU-iwEd7no",
        "colab_type": "code",
        "colab": {}
      },
      "source": [
        "# dataset: 2D array\n",
        "# return: \n",
        "#   + corrects prediction: array\n",
        "#   + average tolerance: array\n",
        "def validateEachColumn(train_set, test_set, tolerance=0.1):\n",
        "  col = len(train_set[0]) - 1 # 11\n",
        "  train_data = np.array(train_set).T[:col] # (839, 1) for each feature\n",
        "  train_answer = np.array(train_set).T[col] # (839, 1)\n",
        "  models = np.zeros((col, 1)) # (11, 1)\n",
        "\n",
        "  #debug = 'col = ' + str(col) + '\\ntrain_data:\\n' + str(train_data) + '\\ntrain_anwser:\\n' + str(train_answer)\n",
        "  #print(debug)\n",
        "\n",
        "  # We gonna have 11 models for 11 features\n",
        "  for i in range(col):\n",
        "    #print(np.stack((train_data[i], train_answer)))\n",
        "    dataset = np.stack((train_data[i], train_answer), axis=1) # (839, 2)\n",
        "    models[i] = linearRegression(dataset) # (1, 1)\n",
        "    #print(models[i])\n",
        "\n",
        "  test_data = np.array(test_set).T[:col]\n",
        "  test_anwser = np.array(test_set).T[col]\n",
        "  \n",
        "  corrects = np.zeros((col, 1), dtype=int) # (360, 11)\n",
        "  avg_tolerances = np.zeros((col, 1)) # (360, 1)\n",
        "  # Test them\n",
        "  for i in range(col):\n",
        "    dataset = np.stack((test_data[i], test_anwser), axis=1) # (360, 2)\n",
        "    corrects[i], avg_tolerances[i] = validate(models[i], dataset, tolerance)\n",
        "    print('Correct predictions: ' + str(corrects[i]) + '\\tAverage tolerance: ' + str(avg_tolerances[i]))\n",
        "\n",
        "  return corrects, avg_tolerances\n"
      ],
      "execution_count": 71,
      "outputs": []
    },
    {
      "cell_type": "code",
      "metadata": {
        "id": "2ywkDDAubjCx",
        "colab_type": "code",
        "colab": {
          "base_uri": "https://localhost:8080/",
          "height": 219
        },
        "outputId": "5c41c3ac-e762-4d99-cd00-04b0a33f2568"
      },
      "source": [
        "corrects, avg_tolerances = validateEachColumn(np.asarray(trainSet), np.asarray(testSet))\n",
        "\n",
        "min_column_index = 0\n",
        "for i in range(len(avg_tolerances)):\n",
        "  if avg_tolerances[i] == min(avg_tolerances):\n",
        "    min_column_index = i\n",
        "    break\n",
        "df.columns[min_column_index]"
      ],
      "execution_count": 72,
      "outputs": [
        {
          "output_type": "stream",
          "text": [
            "Correct predictions: [13]\tAverage tolerance: [1.20958947]\n",
            "Correct predictions: [2]\tAverage tolerance: [2.18464305]\n",
            "Correct predictions: [7]\tAverage tolerance: [2.60829562]\n",
            "Correct predictions: [3]\tAverage tolerance: [2.47154543]\n",
            "Correct predictions: [3]\tAverage tolerance: [2.52078662]\n",
            "Correct predictions: [5]\tAverage tolerance: [3.09568422]\n",
            "Correct predictions: [3]\tAverage tolerance: [3.51772294]\n",
            "Correct predictions: [0]\tAverage tolerance: [0.77646011]\n",
            "Correct predictions: [11]\tAverage tolerance: [0.78731701]\n",
            "Correct predictions: [15]\tAverage tolerance: [1.17072917]\n",
            "Correct predictions: [44]\tAverage tolerance: [0.53865624]\n"
          ],
          "name": "stdout"
        },
        {
          "output_type": "execute_result",
          "data": {
            "application/vnd.google.colaboratory.intrinsic+json": {
              "type": "string"
            },
            "text/plain": [
              "'alcohol'"
            ]
          },
          "metadata": {
            "tags": []
          },
          "execution_count": 72
        }
      ]
    },
    {
      "cell_type": "markdown",
      "metadata": {
        "id": "cF_fHMgZU2ga",
        "colab_type": "text"
      },
      "source": [
        "## C. Xây dựng một mô hình của riêng bạn cho kết quả tốt nhất\n",
        "Kết quả khảo sát từ câu A cho ra kết quả khá tương đồng với câu B dù cho ta đã sử dụng 11 tính chất thay vì chỉ 1 \n",
        "- A: Đoán đúng 52 - Sai số TB ~0.502\n",
        "- B: Đoán đúng 44 - Sai số TB ~0.538 \n",
        "\n",
        "Ta có thể suy đoán rằng trong 11 tính chất ban đầu, có thể có tính chất không cần thiết thậm chí làm giảm độ chính xác dự đoán"
      ]
    },
    {
      "cell_type": "markdown",
      "metadata": {
        "id": "kUgJj2B6YvyT",
        "colab_type": "text"
      },
      "source": [
        "### Phương án 1:\n",
        "Sử dụng lại model tìm được từ câu A và nhân thêm trọng số. Trọng số này được tính bằng tỷ lệ đoán đúng của cột tương ứng <br>\n",
        "Ở câu B, với mỗi model, ta đoán đúng tổng cộng 106 lần. Như vậy, trọng số tương ứng với mỗi cột sẽ là tỷ lệ đoán đúng \n"
      ]
    },
    {
      "cell_type": "code",
      "metadata": {
        "id": "Fng0bGm4a-2B",
        "colab_type": "code",
        "colab": {
          "base_uri": "https://localhost:8080/",
          "height": 33
        },
        "outputId": "4e746944-a9a8-4926-e7cd-836ec5dfd19e"
      },
      "source": [
        "total_correct = int(sum(corrects))\n",
        "print('Total correct: ' + str(total_correct))"
      ],
      "execution_count": 80,
      "outputs": [
        {
          "output_type": "stream",
          "text": [
            "Total correct: 106\n"
          ],
          "name": "stdout"
        }
      ]
    },
    {
      "cell_type": "code",
      "metadata": {
        "id": "lGO17TYFbd9q",
        "colab_type": "code",
        "colab": {}
      },
      "source": [
        "def modelForSolution1(_corrects, _model):\n",
        "  _total_correct = sum(_corrects)\n",
        "  weights = np.asarray([x/_total_correct for x in corrects])\n",
        "  print('Weights: \\n' + str(weights))\n",
        "  new_model = np.reshape(_model, weights.shape) * weights\n",
        "  # print(new_model.shape)\n",
        "  return new_model\n"
      ],
      "execution_count": 98,
      "outputs": []
    },
    {
      "cell_type": "code",
      "metadata": {
        "id": "cQuFcJbsdSuL",
        "colab_type": "code",
        "colab": {
          "base_uri": "https://localhost:8080/",
          "height": 435
        },
        "outputId": "a3fe8373-ea93-425c-8294-1981b63879c5"
      },
      "source": [
        "new_model = modelForSolution1(np.asarray(corrects), np.asarray(x)) # Remind, x is model found in A. x = (A^T*A)^-1 * A^T * B\n",
        "print('New model:\\n' + str(new_model))"
      ],
      "execution_count": 102,
      "outputs": [
        {
          "output_type": "stream",
          "text": [
            "Weights: \n",
            "[[0.12264151]\n",
            " [0.01886792]\n",
            " [0.06603774]\n",
            " [0.02830189]\n",
            " [0.02830189]\n",
            " [0.04716981]\n",
            " [0.02830189]\n",
            " [0.        ]\n",
            " [0.10377358]\n",
            " [0.14150943]\n",
            " [0.41509434]]\n",
            "New model:\n",
            "[[ 1.12454250e-03]\n",
            " [-1.95518647e-02]\n",
            " [-1.57705449e-02]\n",
            " [-2.92871813e-05]\n",
            " [-4.33811437e-02]\n",
            " [ 1.60317432e-04]\n",
            " [-1.22852273e-04]\n",
            " [ 0.00000000e+00]\n",
            " [-3.23765174e-02]\n",
            " [ 9.49617136e-02]\n",
            " [ 1.21178267e-01]]\n",
            "(11, 1)\n"
          ],
          "name": "stdout"
        }
      ]
    },
    {
      "cell_type": "code",
      "metadata": {
        "id": "2SPs-_NUe_6t",
        "colab_type": "code",
        "colab": {
          "base_uri": "https://localhost:8080/",
          "height": 33
        },
        "outputId": "2e5c314b-310c-4847-e30e-1ce08d544e52"
      },
      "source": [
        "# Testing time!\n",
        "validate(np.reshape(new_model, (len(new_model),)), np.asarray(testSet))"
      ],
      "execution_count": 103,
      "outputs": [
        {
          "output_type": "execute_result",
          "data": {
            "text/plain": [
              "(0, 4.665911234504252)"
            ]
          },
          "metadata": {
            "tags": []
          },
          "execution_count": 103
        }
      ]
    },
    {
      "cell_type": "markdown",
      "metadata": {
        "id": "Cb5dQe6XfsIa",
        "colab_type": "text"
      },
      "source": [
        "Kết quả:\n",
        "- Đoán đúng: 0\n",
        "- Sai số TB: ~4.665\n",
        "\n",
        "Hóa ra trọng số chỉ khiến cho mọi thứ tệ hơn."
      ]
    },
    {
      "cell_type": "markdown",
      "metadata": {
        "id": "aCcS3E4ugO8h",
        "colab_type": "text"
      },
      "source": [
        "### Phương án 2:\n",
        "Ta sẽ thử loại bỏ hẳn các cột tệ và chỉ giữ lại cột nào có kết quả tốt (dựa trên câu B) <br>\n",
        "Cột nào có sai số trung bình nhỏ hơn 1 sẽ được giữ lại"
      ]
    },
    {
      "cell_type": "code",
      "metadata": {
        "id": "fk_undjCgu3i",
        "colab_type": "code",
        "colab": {
          "base_uri": "https://localhost:8080/",
          "height": 201
        },
        "outputId": "bfe98e37-6558-4155-df94-5e4e9316d8b7"
      },
      "source": [
        "def modelForSolution2(_avg_tolerances, _model):\n",
        "  weights = np.zeros(_avg_tolerances.shape)\n",
        "  for i in range(len(_avg_tolerances)):\n",
        "    if _avg_tolerances[i] < 1:\n",
        "      weights[i] = 1\n",
        "  _new_model = weights * np.reshape(_model, weights.shape)\n",
        "  return _new_model\n",
        "\n",
        "new_model = modelForSolution2(np.asarray(avg_tolerances), np.asarray(x))\n",
        "new_model"
      ],
      "execution_count": 114,
      "outputs": [
        {
          "output_type": "execute_result",
          "data": {
            "text/plain": [
              "array([[ 0.        ],\n",
              "       [-0.        ],\n",
              "       [-0.        ],\n",
              "       [-0.        ],\n",
              "       [-0.        ],\n",
              "       [ 0.        ],\n",
              "       [-0.        ],\n",
              "       [ 4.03200906],\n",
              "       [-0.31199189],\n",
              "       [ 0.        ],\n",
              "       [ 0.29192946]])"
            ]
          },
          "metadata": {
            "tags": []
          },
          "execution_count": 114
        }
      ]
    },
    {
      "cell_type": "code",
      "metadata": {
        "id": "UEPmXGzwihfK",
        "colab_type": "code",
        "colab": {
          "base_uri": "https://localhost:8080/",
          "height": 33
        },
        "outputId": "9eb9998b-131e-47c4-afdd-4ea349b59afa"
      },
      "source": [
        "# Testing time!\n",
        "validate(np.reshape(new_model, (len(new_model),)), np.asarray(testSet))"
      ],
      "execution_count": 115,
      "outputs": [
        {
          "output_type": "execute_result",
          "data": {
            "text/plain": [
              "(28, 0.593639059035015)"
            ]
          },
          "metadata": {
            "tags": []
          },
          "execution_count": 115
        }
      ]
    },
    {
      "cell_type": "markdown",
      "metadata": {
        "id": "GhCr8ddKjEAk",
        "colab_type": "text"
      },
      "source": [
        "Kết quả:\n",
        "- Đoán đúng: 28\n",
        "- Sai số TB: ~0.593\n",
        "\n",
        "Nhận xét: \n",
        "- Kết quả tốt hơn rất nhiều so với phương án 1 nhưng vẫn chưa bằng mô hình câu A và B"
      ]
    },
    {
      "cell_type": "markdown",
      "metadata": {
        "id": "2f_Zb314jXgQ",
        "colab_type": "text"
      },
      "source": [
        "### Phương án 3:\n",
        "Ý tưởng giống phương án 2 nhưng thay vì sai số TB > 0, ta giữ lại cột nào đoán đúng hơn 10 lần"
      ]
    },
    {
      "cell_type": "code",
      "metadata": {
        "id": "V0SoEHTTkSZy",
        "colab_type": "code",
        "colab": {
          "base_uri": "https://localhost:8080/",
          "height": 201
        },
        "outputId": "6125c54c-aa04-4055-a255-6545f450bd27"
      },
      "source": [
        "def modelForSolution3(_corrects, _model):\n",
        "  _new_model = np.reshape(_model, _corrects.shape)\n",
        "  for i in range(len(_corrects)):\n",
        "    if _corrects[i] < 10:\n",
        "      _new_model[i] = 0\n",
        "  return _new_model\n",
        "\n",
        "new_model = modelForSolution3(np.asarray(corrects), np.asarray(x))\n",
        "new_model"
      ],
      "execution_count": 116,
      "outputs": [
        {
          "output_type": "execute_result",
          "data": {
            "text/plain": [
              "array([[ 0.00916935],\n",
              "       [ 0.        ],\n",
              "       [ 0.        ],\n",
              "       [ 0.        ],\n",
              "       [ 0.        ],\n",
              "       [ 0.        ],\n",
              "       [ 0.        ],\n",
              "       [ 0.        ],\n",
              "       [-0.31199189],\n",
              "       [ 0.67106278],\n",
              "       [ 0.29192946]])"
            ]
          },
          "metadata": {
            "tags": []
          },
          "execution_count": 116
        }
      ]
    },
    {
      "cell_type": "code",
      "metadata": {
        "id": "4JsFUqSPk7Th",
        "colab_type": "code",
        "colab": {
          "base_uri": "https://localhost:8080/",
          "height": 33
        },
        "outputId": "54d16386-be7a-4e8a-dac6-f918ede589f1"
      },
      "source": [
        "# Testing time!\n",
        "validate(np.reshape(new_model, (len(new_model),)), np.asarray(testSet))"
      ],
      "execution_count": 117,
      "outputs": [
        {
          "output_type": "execute_result",
          "data": {
            "text/plain": [
              "(0, 3.2623666532647424)"
            ]
          },
          "metadata": {
            "tags": []
          },
          "execution_count": 117
        }
      ]
    },
    {
      "cell_type": "markdown",
      "metadata": {
        "id": "LuCRbENdk-XQ",
        "colab_type": "text"
      },
      "source": [
        "Kết quả:\n",
        "- Đoán đúng: 0\n",
        "- Sai số TB: 3.26\n",
        "\n",
        "Nhận xét:\n",
        "- Phương án này tồi không kém gì Phương án 1"
      ]
    },
    {
      "cell_type": "markdown",
      "metadata": {
        "id": "YgI-4LQ-lStg",
        "colab_type": "text"
      },
      "source": [
        "### Kết luận:\n",
        "Nếu không lấy mô hình câu A hay B thì phương án 2 là lựa chọn ổn nhất"
      ]
    }
  ]
}